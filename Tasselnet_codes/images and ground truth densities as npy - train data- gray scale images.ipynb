{
 "cells": [
  {
   "cell_type": "markdown",
   "id": "0db5fd87",
   "metadata": {},
   "source": [
    "Focus on the images first"
   ]
  },
  {
   "cell_type": "code",
   "execution_count": 1,
   "id": "empty-height",
   "metadata": {},
   "outputs": [],
   "source": [
    "# import the needed libraries\n",
    "import numpy as np\n",
    "import matplotlib.pyplot as plt\n",
    "import pandas as pd\n",
    "import os\n",
    "import scipy.io\n",
    "import cv2\n",
    "import tensorflow as tf\n",
    "import random\n",
    "from skimage.transform import resize\n",
    "from scipy import ndimage"
   ]
  },
  {
   "cell_type": "code",
   "execution_count": 2,
   "id": "accepting-inside",
   "metadata": {},
   "outputs": [],
   "source": [
    "\n",
    "\n",
    "# Get the path for the data\n",
    "\n",
    "path_unfiltered_train = r\"C:\\Users\\15739\\Desktop\\UNL - all\\Summer 2022\\Manuscript\\Image_set_1\\unfiltered_gray_train\""
   ]
  },
  {
   "cell_type": "code",
   "execution_count": 3,
   "id": "resident-collins",
   "metadata": {},
   "outputs": [],
   "source": [
    "# get the names of the images\n",
    "all_images = os.listdir(path_unfiltered_train)"
   ]
  },
  {
   "cell_type": "code",
   "execution_count": 4,
   "id": "selective-samba",
   "metadata": {},
   "outputs": [
    {
     "data": {
      "text/plain": [
       "163"
      ]
     },
     "execution_count": 4,
     "metadata": {},
     "output_type": "execute_result"
    }
   ],
   "source": [
    "# sanity check\n",
    "len(all_images)"
   ]
  },
  {
   "cell_type": "code",
   "execution_count": 5,
   "id": "e541c47f",
   "metadata": {},
   "outputs": [],
   "source": [
    "# join the path and the image name for each image\n",
    "image_paths = []\n",
    "for image in all_images:\n",
    "    img_path = os.path.join(path_unfiltered_train, image)\n",
    "    image_paths.append(img_path)"
   ]
  },
  {
   "cell_type": "code",
   "execution_count": 6,
   "id": "36559b95",
   "metadata": {},
   "outputs": [
    {
     "data": {
      "text/plain": [
       "163"
      ]
     },
     "execution_count": 6,
     "metadata": {},
     "output_type": "execute_result"
    }
   ],
   "source": [
    "len(image_paths)"
   ]
  },
  {
   "cell_type": "code",
   "execution_count": 8,
   "id": "bb4bf931",
   "metadata": {},
   "outputs": [],
   "source": [
    "# store the images as numpy arrays\n",
    "\n",
    "# specify the folder\n",
    "store_path = r'C:\\Users\\15739\\Desktop\\UNL - all\\Summer 2022\\Manuscript\\Image_set_1\\numpy train data gray images'"
   ]
  },
  {
   "cell_type": "code",
   "execution_count": 9,
   "id": "a5cd2803",
   "metadata": {},
   "outputs": [],
   "source": [
    "# now for each image in image_paths, save it as a numpy array\n",
    "# need to keep track of image size to generate the densities\n",
    "image_size = []\n",
    "for i in image_paths:\n",
    "#     read the image\n",
    "    read_image = plt.imread(i)\n",
    "# size of the image\n",
    "    img_shape = read_image.shape\n",
    "#     append the shapes of the resized images\n",
    "    image_size.append(img_shape)\n",
    "#     get image name\n",
    "    image_name = (i.split(\"\\\\\")[-1]).split(\".\")[0]\n",
    "#     store the image as numpy array\n",
    "    np.save(store_path + \"\\\\\"+ image_name + \"_resized.npy\", read_image)\n",
    "    "
   ]
  },
  {
   "cell_type": "markdown",
   "id": "284bb03a",
   "metadata": {},
   "source": [
    "Now consider the locations of the tassels"
   ]
  },
  {
   "cell_type": "code",
   "execution_count": 10,
   "id": "83554c83",
   "metadata": {},
   "outputs": [
    {
     "data": {
      "text/html": [
       "<div>\n",
       "<style scoped>\n",
       "    .dataframe tbody tr th:only-of-type {\n",
       "        vertical-align: middle;\n",
       "    }\n",
       "\n",
       "    .dataframe tbody tr th {\n",
       "        vertical-align: top;\n",
       "    }\n",
       "\n",
       "    .dataframe thead th {\n",
       "        text-align: right;\n",
       "    }\n",
       "</style>\n",
       "<table border=\"1\" class=\"dataframe\">\n",
       "  <thead>\n",
       "    <tr style=\"text-align: right;\">\n",
       "      <th></th>\n",
       "      <th>Image Name</th>\n",
       "      <th>top_x</th>\n",
       "      <th>top_y</th>\n",
       "      <th>width</th>\n",
       "      <th>height</th>\n",
       "    </tr>\n",
       "  </thead>\n",
       "  <tbody>\n",
       "    <tr>\n",
       "      <th>0</th>\n",
       "      <td>190814_djifc6310s_Aug14_SW_row_11_range_2_rep_...</td>\n",
       "      <td>42</td>\n",
       "      <td>45</td>\n",
       "      <td>61</td>\n",
       "      <td>40</td>\n",
       "    </tr>\n",
       "    <tr>\n",
       "      <th>1</th>\n",
       "      <td>190814_djifc6310s_Aug14_SW_row_11_range_2_rep_...</td>\n",
       "      <td>40</td>\n",
       "      <td>84</td>\n",
       "      <td>65</td>\n",
       "      <td>41</td>\n",
       "    </tr>\n",
       "    <tr>\n",
       "      <th>2</th>\n",
       "      <td>190814_djifc6310s_Aug14_SW_row_11_range_2_rep_...</td>\n",
       "      <td>34</td>\n",
       "      <td>119</td>\n",
       "      <td>76</td>\n",
       "      <td>36</td>\n",
       "    </tr>\n",
       "    <tr>\n",
       "      <th>3</th>\n",
       "      <td>190814_djifc6310s_Aug14_SW_row_11_range_2_rep_...</td>\n",
       "      <td>71</td>\n",
       "      <td>430</td>\n",
       "      <td>45</td>\n",
       "      <td>50</td>\n",
       "    </tr>\n",
       "    <tr>\n",
       "      <th>4</th>\n",
       "      <td>190814_djifc6310s_Aug14_SW_row_11_range_2_rep_...</td>\n",
       "      <td>59</td>\n",
       "      <td>614</td>\n",
       "      <td>35</td>\n",
       "      <td>46</td>\n",
       "    </tr>\n",
       "  </tbody>\n",
       "</table>\n",
       "</div>"
      ],
      "text/plain": [
       "                                          Image Name  top_x  top_y  width  \\\n",
       "0  190814_djifc6310s_Aug14_SW_row_11_range_2_rep_...     42     45     61   \n",
       "1  190814_djifc6310s_Aug14_SW_row_11_range_2_rep_...     40     84     65   \n",
       "2  190814_djifc6310s_Aug14_SW_row_11_range_2_rep_...     34    119     76   \n",
       "3  190814_djifc6310s_Aug14_SW_row_11_range_2_rep_...     71    430     45   \n",
       "4  190814_djifc6310s_Aug14_SW_row_11_range_2_rep_...     59    614     35   \n",
       "\n",
       "   height  \n",
       "0      40  \n",
       "1      41  \n",
       "2      36  \n",
       "3      50  \n",
       "4      46  "
      ]
     },
     "execution_count": 10,
     "metadata": {},
     "output_type": "execute_result"
    }
   ],
   "source": [
    "# import the csv file with the locations of the tassels\n",
    "tassel_coords = pd.read_csv(r\"C:\\Users\\15739\\Desktop\\UNL - all\\Summer 2022\\Manuscript\\Image_set_1\\new_annotated_coordinates_all.csv\", header = None) \n",
    "\n",
    "# renname the columns as they aren't named\n",
    "tassel_coords.columns = ['Image Name', 'top_x', 'top_y', 'width', 'height']\n",
    "\n",
    "# have a look at the data\n",
    "tassel_coords.head()"
   ]
  },
  {
   "cell_type": "code",
   "execution_count": 11,
   "id": "424743d7",
   "metadata": {},
   "outputs": [
    {
     "data": {
      "text/plain": [
       "323"
      ]
     },
     "execution_count": 11,
     "metadata": {},
     "output_type": "execute_result"
    }
   ],
   "source": [
    "# how many unique image information?\n",
    "len(tassel_coords[\"Image Name\"].unique())"
   ]
  },
  {
   "cell_type": "code",
   "execution_count": 12,
   "id": "db578d5f",
   "metadata": {},
   "outputs": [],
   "source": [
    "# Now, need to extract the coordinates per each image, \n",
    "# and then do the preprocessing so that the density maps can be arrived at\n",
    "\n",
    "# for getting the coordinates per image, we need to subset the dataframe by the image\n",
    "# and store the coordinates in a list\n",
    "\n",
    "# define a function for this\n",
    "def extract_midcoords(image_name):\n",
    "# get the corrdinates corresponding to image\n",
    "    coords = tassel_coords[(tassel_coords[\"Image Name\"] == \n",
    "                        image_name)].reset_index(drop = True)\n",
    "\n",
    "# extract only the 4 columns of coordinates\n",
    "    coords_only = coords[['top_x', 'top_y', 'width', 'height']]\n",
    "\n",
    "# deduct  from all cells (as instructed due to matlab indexing)\n",
    "    coords_only = coords_only - 1\n",
    "\n",
    "# compute the centroids based on coords\n",
    "    coords_only['mid_x'] = round((coords_only['top_x'] + (coords_only['top_x'] + coords_only['width']))/2).astype(int)\n",
    "    coords_only['mid_y'] = round((coords_only['top_y'] + (coords_only['top_y'] + coords_only['height']))/2).astype(int)\n",
    "\n",
    "# extract only the centroids as that is all we need\n",
    "    mid_coords = coords_only[['mid_x', 'mid_y']]\n",
    "\n",
    "# convert the dataframne of mid coordinates to a list\n",
    "# convert these dataframe values to a list\n",
    "    mid_coords_list = mid_coords.values.tolist()\n",
    "    return(mid_coords_list)"
   ]
  },
  {
   "cell_type": "code",
   "execution_count": 13,
   "id": "a6734f4c",
   "metadata": {},
   "outputs": [],
   "source": [
    "# do this for all the images\n",
    "all_centroids = []\n",
    "for image in all_images:\n",
    "    extracted_coords = extract_midcoords(image)\n",
    "    all_centroids.append(extracted_coords)"
   ]
  },
  {
   "cell_type": "code",
   "execution_count": 14,
   "id": "e318ea4d",
   "metadata": {},
   "outputs": [
    {
     "data": {
      "text/plain": [
       "163"
      ]
     },
     "execution_count": 14,
     "metadata": {},
     "output_type": "execute_result"
    }
   ],
   "source": [
    "# sanity check\n",
    "len(all_centroids)\n",
    "\n",
    "\n"
   ]
  },
  {
   "cell_type": "code",
   "execution_count": 15,
   "id": "cf6db368",
   "metadata": {},
   "outputs": [
    {
     "data": {
      "text/plain": [
       "25"
      ]
     },
     "execution_count": 15,
     "metadata": {},
     "output_type": "execute_result"
    }
   ],
   "source": [
    "# check for random images if this is correct\n",
    "\n",
    "# for 6th image in all images\n",
    "len(all_centroids[0])\n"
   ]
  },
  {
   "cell_type": "code",
   "execution_count": 16,
   "id": "8a20e1de",
   "metadata": {},
   "outputs": [
    {
     "data": {
      "text/plain": [
       "25"
      ]
     },
     "execution_count": 16,
     "metadata": {},
     "output_type": "execute_result"
    }
   ],
   "source": [
    "# sanity check ctd...\n",
    "\n",
    "# name of this image\n",
    "selected_image = all_images[0]\n",
    "\n",
    "# get the coords\n",
    "coords_selected_image = tassel_coords[(tassel_coords[\"Image Name\"] == \n",
    "                        selected_image)].reset_index(drop = True)\n",
    "\n",
    "# get the first dimension of the shape\n",
    "coords_selected_image.shape[0]"
   ]
  },
  {
   "cell_type": "code",
   "execution_count": 17,
   "id": "de2dc92d",
   "metadata": {},
   "outputs": [
    {
     "data": {
      "text/plain": [
       "(1081, 263)"
      ]
     },
     "execution_count": 17,
     "metadata": {},
     "output_type": "execute_result"
    }
   ],
   "source": [
    "image_size[0]"
   ]
  },
  {
   "cell_type": "code",
   "execution_count": 18,
   "id": "cfca3514",
   "metadata": {},
   "outputs": [],
   "source": [
    "# now need to create the density maps\n",
    "\n",
    "# first create the empty maps\n",
    "empty_image = []\n",
    "for shape in image_size:\n",
    "    np_image = np.zeros((shape[0], shape[1]))\n",
    "    empty_image.append(np_image)"
   ]
  },
  {
   "cell_type": "code",
   "execution_count": 19,
   "id": "0cc5ec54",
   "metadata": {},
   "outputs": [
    {
     "data": {
      "image/png": "[encoded data removed]",
      "text/plain": [
       "<Figure size 720x720 with 1 Axes>"
      ]
     },
     "metadata": {
      "needs_background": "light"
     },
     "output_type": "display_data"
    }
   ],
   "source": [
    "# visualize an empty map\n",
    "dense_map = empty_image[0]\n",
    "\n",
    "plt.figure(figsize = (10,10))\n",
    "plt.imshow(dense_map, cmap = \"Greys\")\n",
    "plt.show()"
   ]
  },
  {
   "cell_type": "code",
   "execution_count": 20,
   "id": "648f95ef",
   "metadata": {},
   "outputs": [],
   "source": [
    "# get the dot maps\n",
    "cat_image = []\n",
    "for i, img in enumerate(empty_image):\n",
    "    coords = all_centroids[i]\n",
    "    for point in coords:\n",
    "        img[point[1], point[0]] = 1\n",
    "    cat_image.append(img)"
   ]
  },
  {
   "cell_type": "code",
   "execution_count": 21,
   "id": "7d5ddbbe",
   "metadata": {},
   "outputs": [
    {
     "data": {
      "image/png": "[encoded data removed]",
      "text/plain": [
       "<Figure size 1080x1080 with 1 Axes>"
      ]
     },
     "metadata": {
      "needs_background": "light"
     },
     "output_type": "display_data"
    }
   ],
   "source": [
    "# draw the dot map for one image to see how ot looks like\n",
    "dot_image = cat_image[0]\n",
    "\n",
    "plt.figure(figsize = (15,15))\n",
    "plt.imshow(dot_image, cmap = \"Greys\")\n",
    "plt.show()"
   ]
  },
  {
   "cell_type": "code",
   "execution_count": 22,
   "id": "opposite-humanitarian",
   "metadata": {},
   "outputs": [
    {
     "data": {
      "text/plain": [
       "(50, 50)"
      ]
     },
     "execution_count": 22,
     "metadata": {},
     "output_type": "execute_result"
    }
   ],
   "source": [
    "# now define the kernel and run the convolution\n",
    "one_d_kerenel = cv2.getGaussianKernel(50,8)\n",
    "two_d_kernel = np.multiply(one_d_kerenel.T, one_d_kerenel)\n",
    "\n",
    "# Shape of teh 2D kernel\n",
    "two_d_kernel.shape"
   ]
  },
  {
   "cell_type": "code",
   "execution_count": 23,
   "id": "dutch-circular",
   "metadata": {},
   "outputs": [],
   "source": [
    "# now, convolve all the new blackened images\n",
    "\n",
    "convolved_image = []\n",
    "for image in cat_image:\n",
    "    convolution = ndimage.convolve(image, two_d_kernel)\n",
    "    convolved_image.append(convolution)"
   ]
  },
  {
   "cell_type": "code",
   "execution_count": 24,
   "id": "29cfee61",
   "metadata": {},
   "outputs": [
    {
     "data": {
      "image/png": "[encoded data removed]",
      "text/plain": [
       "<Figure size 1080x1080 with 1 Axes>"
      ]
     },
     "metadata": {
      "needs_background": "light"
     },
     "output_type": "display_data"
    }
   ],
   "source": [
    "trial_image = convolved_image[0]\n",
    "\n",
    "plt.figure(figsize = (15,15))\n",
    "plt.imshow(trial_image, cmap = \"Greys\")\n",
    "plt.show()"
   ]
  },
  {
   "cell_type": "code",
   "execution_count": 25,
   "id": "grand-ticket",
   "metadata": {},
   "outputs": [
    {
     "data": {
      "text/plain": [
       "25.00411364824405"
      ]
     },
     "execution_count": 25,
     "metadata": {},
     "output_type": "execute_result"
    }
   ],
   "source": [
    "np.sum(convolved_image[0])"
   ]
  },
  {
   "cell_type": "code",
   "execution_count": 26,
   "id": "ahead-ethnic",
   "metadata": {},
   "outputs": [
    {
     "data": {
      "text/plain": [
       "163"
      ]
     },
     "execution_count": 26,
     "metadata": {},
     "output_type": "execute_result"
    }
   ],
   "source": [
    "# check the length of the convolved images\n",
    "len(convolved_image)"
   ]
  },
  {
   "cell_type": "code",
   "execution_count": 27,
   "id": "wired-boating",
   "metadata": {},
   "outputs": [],
   "source": [
    "# now save all the density maps\n",
    "\n",
    "for j, image in enumerate(convolved_image):\n",
    "    mat_file_name = (all_images[j].split(\"\\\\\")[-1]).split('.')[0]\n",
    "    np.save(store_path + \"\\\\\"+ mat_file_name + \"_densitymap.npy\", image)\n",
    "\n"
   ]
  }
 ],
 "metadata": {
  "kernelspec": {
   "display_name": "gayarad",
   "language": "python",
   "name": "gayarad"
  },
  "language_info": {
   "codemirror_mode": {
    "name": "ipython",
    "version": 3
   },
   "file_extension": ".py",
   "mimetype": "text/x-python",
   "name": "python",
   "nbconvert_exporter": "python",
   "pygments_lexer": "ipython3",
   "version": "3.8.8"
  }
 },
 "nbformat": 4,
 "nbformat_minor": 5
}
