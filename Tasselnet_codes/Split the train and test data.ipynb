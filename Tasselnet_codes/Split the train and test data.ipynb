{
 "cells": [
  {
   "cell_type": "code",
   "execution_count": 1,
   "id": "3cdeb1b6",
   "metadata": {},
   "outputs": [],
   "source": [
    "# import the needed libraries\n",
    "\n",
    "import numpy as np\n",
    "import matplotlib.pyplot as plt\n",
    "import os\n",
    "import shutil\n",
    "import pandas as pd\n",
    "import random"
   ]
  },
  {
   "cell_type": "code",
   "execution_count": 2,
   "id": "5e3c87c7",
   "metadata": {},
   "outputs": [],
   "source": [
    "# see the names of the image files\n",
    "\n",
    "# specify the directory\n",
    "\n",
    "unfiltered_images = r\"C:\\Users\\15739\\Desktop\\UNL - all\\Summer 2022\\Manuscript\\Image_set_1\\unfiltered\"\n",
    "\n",
    "# list the names \n",
    "image_names = os.listdir(unfiltered_images)"
   ]
  },
  {
   "cell_type": "code",
   "execution_count": 3,
   "id": "749eead5",
   "metadata": {},
   "outputs": [],
   "source": [
    "# image_names"
   ]
  },
  {
   "cell_type": "code",
   "execution_count": 4,
   "id": "3cdd1a2f",
   "metadata": {},
   "outputs": [
    {
     "data": {
      "text/plain": [
       "323"
      ]
     },
     "execution_count": 4,
     "metadata": {},
     "output_type": "execute_result"
    }
   ],
   "source": [
    "# how many images?\n",
    "len(image_names)"
   ]
  },
  {
   "cell_type": "code",
   "execution_count": 7,
   "id": "748a5651",
   "metadata": {},
   "outputs": [],
   "source": [
    "# Need to divide these chosen images into train and test sets\n",
    "\n",
    "# let's do a split of 12:23 in test:train for the 35 images\n",
    "\n",
    "# generate 12 random numbers\n",
    "# set a random seed too\n",
    "random.seed(20)\n",
    "rand_digits = random.sample(range(323),160)"
   ]
  },
  {
   "cell_type": "code",
   "execution_count": 8,
   "id": "2c6bd71f",
   "metadata": {},
   "outputs": [
    {
     "data": {
      "text/plain": [
       "160"
      ]
     },
     "execution_count": 8,
     "metadata": {},
     "output_type": "execute_result"
    }
   ],
   "source": [
    "len(rand_digits)"
   ]
  },
  {
   "cell_type": "code",
   "execution_count": 9,
   "id": "c5506af9",
   "metadata": {},
   "outputs": [],
   "source": [
    "rand_all = random.sample(range(323),323)"
   ]
  },
  {
   "cell_type": "code",
   "execution_count": 10,
   "id": "1d3dbe00",
   "metadata": {},
   "outputs": [
    {
     "data": {
      "text/plain": [
       "323"
      ]
     },
     "execution_count": 10,
     "metadata": {},
     "output_type": "execute_result"
    }
   ],
   "source": [
    "len(rand_all)"
   ]
  },
  {
   "cell_type": "code",
   "execution_count": 11,
   "id": "8c46aab3",
   "metadata": {},
   "outputs": [],
   "source": [
    "# get the random digits corresponding to train set\n",
    "rad_digits_train = list(set(rand_all) - set(rand_digits))"
   ]
  },
  {
   "cell_type": "code",
   "execution_count": 12,
   "id": "c8ea6d74",
   "metadata": {},
   "outputs": [],
   "source": [
    "# get the corresponding images in a list\n",
    "test = [image_names[index] for index in rand_digits]"
   ]
  },
  {
   "cell_type": "code",
   "execution_count": 13,
   "id": "2037681f",
   "metadata": {
    "scrolled": true
   },
   "outputs": [
    {
     "data": {
      "text/plain": [
       "['190816_djifc6310s_Aug16_SW_row_22_range_6_rep_3_isref_0.png',\n",
       " '190822_djifc6310s_Aug22_SE_row_5_range_3_rep_7.png',\n",
       " '190816_djifc6310s_Aug16_NE_row_16_range_4_rep_7.png',\n",
       " '190823_djifc6310_Aug23_SW_row_10_range_4_rep_3_isref_1.png',\n",
       " '190903_djifc6310s_Sept3_SW_row_7_range_6_rep_6_isref_1.png',\n",
       " '190820_djifc6310s_Aug20_NE_row_28_range_2_rep_9.png',\n",
       " '190812_djifc6310s_Aug12_SE_row_32_range_4_rep_3.png',\n",
       " '190830_djifc6310s_Aug30_NW_row_12_range_2_rep_7_isref_1.png',\n",
       " '190830_djifc6310s_Aug30_NE_row_39_range_1_rep_3.png',\n",
       " '190814_djifc6310s_Aug14_SE_row_1_range_1_rep_5.png',\n",
       " '190816_djifc6310s_Aug16_NE_row_18_range_4_rep_6.png',\n",
       " '190816_djifc6310s_Aug16_NW_row_39_range_5_rep_4_isref_0.png',\n",
       " '190823_djifc6310_Aug23_SE_row_32_range_4_rep_3.png',\n",
       " '190901_djifc6310s_Sept1_NW_row_32_range_6_rep_3_isref_0.png',\n",
       " '190905_djifc6310s_Sept5_NE_row_33_range_2_rep_3.png',\n",
       " '190901_djifc6310s_Sept1_NE_row_16_range_4_rep_3.png',\n",
       " '190905_djifc6310s_Sept5_SW_row_10_range_4_rep_6_isref_1.png',\n",
       " '190820_djifc6310s_Aug20_SW_row_22_range_6_rep_3_isref_1.png',\n",
       " '190820_djifc6310s_Aug20_SE_row_5_range_3_rep_7.png',\n",
       " '190823_djifc6310_Aug23_SE_row_23_range_1_rep_6.png',\n",
       " '190823_djifc6310_Aug23_SW_row_31_range_2_rep_6_isref_0.png',\n",
       " '190823_djifc6310_Aug23_SW_row_11_range_2_rep_2_isref_1.png',\n",
       " '190830_djifc6310s_Aug30_SE_row_1_range_1_rep_3.png',\n",
       " '190814_djifc6310s_Aug14_SW_row_31_range_2_rep_7_isref_0.png',\n",
       " '190903_djifc6310s_Sept3_NE_row_21_range_2_rep_2.png',\n",
       " '190901_djifc6310s_Sept1_SE_row_40_range_4_rep_3.png',\n",
       " '190830_djifc6310s_Aug30_NE_row_33_range_2_rep_3.png',\n",
       " '190814_djifc6310s_Aug14_SE_row_32_range_4_rep_3.png',\n",
       " '190820_djifc6310s_Aug20_SW_row_22_range_5_rep_4_isref_1.png',\n",
       " '190905_djifc6310s_Sept5_SW_row_22_range_6_rep_7_isref_1.png',\n",
       " '190822_djifc6310s_Aug22_NW_row_39_range_5_rep_3_isref_1.png',\n",
       " '190812_djifc6310s_Aug12_SW_row_11_range_2_rep_7_isref_1.png',\n",
       " '190820_djifc6310s_Aug20_SW_row_10_range_4_rep_5_isref_1.png',\n",
       " '190814_djifc6310s_Aug14_SW_row_32_range_5_rep_5_isref_1.png',\n",
       " '190814_djifc6310s_Aug14_SE_row_5_range_3_rep_8.png',\n",
       " '190820_djifc6310s_Aug20_NW_row_6_range_2_rep_6_isref_1.png',\n",
       " '190822_djifc6310s_Aug22_SE_row_21_range_3_rep_3.png',\n",
       " '190823_djifc6310_Aug23_NE_row_1_range_1_rep_7.png',\n",
       " '190823_djifc6310_Aug23_NW_row_39_range_5_rep_7_isref_1.png',\n",
       " '190822_djifc6310s_Aug22_SE_row_32_range_4_rep_4.png',\n",
       " '190820_djifc6310s_Aug20_NE_row_18_range_4_rep_3.png',\n",
       " '190816_djifc6310s_Aug16_NW_row_17_range_4_rep_6_isref_1.png',\n",
       " '190812_djifc6310s_Aug12_SE_row_21_range_3_rep_6.png',\n",
       " '190822_djifc6310s_Aug22_SW_row_11_range_2_rep_7_isref_1.png',\n",
       " '190822_djifc6310s_Aug22_NW_row_12_range_2_rep_6_isref_1.png',\n",
       " '190822_djifc6310s_Aug22_NE_row_18_range_4_rep_3.png',\n",
       " '190822_djifc6310s_Aug22_NW_row_22_range_2_rep_5_isref_1.png',\n",
       " '190814_djifc6310s_Aug14_NE_row_33_range_2_rep_5.png',\n",
       " '190812_djifc6310s_Aug12_NW_row_32_range_6_rep_6_isref_1.png',\n",
       " '190823_djifc6310_Aug23_NW_row_22_range_2_rep_3_isref_1.png',\n",
       " '190823_djifc6310_Aug23_NE_row_16_range_4_rep_5.png',\n",
       " '190816_djifc6310s_Aug16_SE_row_32_range_4_rep_2.png',\n",
       " '190905_djifc6310s_Sept5_NW_row_22_range_2_rep_8_isref_1.png',\n",
       " '190830_djifc6310s_Aug30_SW_row_34_range_4_rep_6_isref_1.png',\n",
       " '190816_djifc6310s_Aug16_SW_row_31_range_2_rep_6_isref_0.png',\n",
       " '190822_djifc6310s_Aug22_SW_row_32_range_5_rep_3_isref_1.png',\n",
       " '190830_djifc6310s_Aug30_SE_row_40_range_4_rep_3.png',\n",
       " '190816_djifc6310s_Aug16_SW_row_34_range_4_rep_7_isref_1.png',\n",
       " '190820_djifc6310s_Aug20_NE_row_1_range_1_rep_3.png',\n",
       " '190905_djifc6310s_Sept5_NE_row_21_range_2_rep_8.png',\n",
       " '190816_djifc6310s_Aug16_NW_row_22_range_2_rep_3_isref_1.png',\n",
       " '190905_djifc6310s_Sept5_SE_row_32_range_4_rep_3.png',\n",
       " '190830_djifc6310s_Aug30_SE_row_21_range_3_rep_3.png',\n",
       " '190827_djifc6310_Aug26_NE_row_21_range_2_rep_4.png',\n",
       " '190822_djifc6310s_Aug22_NE_row_21_range_2_rep_6.png',\n",
       " '190816_djifc6310s_Aug16_NW_row_12_range_2_rep_7_isref_1.png',\n",
       " '190814_djifc6310s_Aug14_NE_row_1_range_1_rep_2.png',\n",
       " '190820_djifc6310s_Aug20_SE_row_21_range_3_rep_3.png',\n",
       " '190822_djifc6310s_Aug22_NE_row_16_range_4_rep_8.png',\n",
       " '190814_djifc6310s_Aug14_SW_row_11_range_2_rep_4_isref_1.png',\n",
       " '190901_djifc6310s_Sept1_SE_row_8_range_2_rep_9.png',\n",
       " '190830_djifc6310s_Aug30_NW_row_32_range_6_rep_4_isref_0.png',\n",
       " '190812_djifc6310s_Aug12_SW_row_31_range_2_rep_6_isref_0.png',\n",
       " '190814_djifc6310s_Aug14_NE_row_39_range_1_rep_3.png',\n",
       " '190827_djifc6310_Aug26_SW_row_34_range_4_rep_2_isref_1.png',\n",
       " '190830_djifc6310s_Aug30_SW_row_22_range_5_rep_4_isref_1.png',\n",
       " '190816_djifc6310s_Aug16_SW_row_11_range_2_rep_3_isref_1.png',\n",
       " '190812_djifc6310s_Aug12_NE_row_16_range_4_rep_10.png',\n",
       " '190903_djifc6310s_Sept3_NE_row_18_range_4_rep_3.png',\n",
       " '190823_djifc6310_Aug23_SE_row_8_range_2_rep_2.png',\n",
       " '190830_djifc6310s_Aug30_NE_row_1_range_1_rep_3.png',\n",
       " '190905_djifc6310s_Sept5_NE_row_39_range_1_rep_11.png',\n",
       " '190823_djifc6310_Aug23_SW_row_32_range_5_rep_4_isref_0.png',\n",
       " '190827_djifc6310_Aug26_SE_row_12_range_6_rep_1.png',\n",
       " '190905_djifc6310s_Sept5_NW_row_39_range_5_rep_10_isref_0.png',\n",
       " '190822_djifc6310s_Aug22_NE_row_39_range_1_rep_4.png',\n",
       " '190822_djifc6310s_Aug22_SW_row_10_range_4_rep_5_isref_1.png',\n",
       " '190827_djifc6310_Aug26_SE_row_8_range_2_rep_2.png',\n",
       " '190827_djifc6310_Aug26_SW_row_11_range_2_rep_2_isref_1.png',\n",
       " '190827_djifc6310_Aug26_NW_row_6_range_2_rep_3_isref_1.png',\n",
       " '190905_djifc6310s_Sept5_SW_row_11_range_2_rep_6_isref_1.png',\n",
       " '190830_djifc6310s_Aug30_NW_row_30_range_3_rep_7_isref_0.png',\n",
       " '190823_djifc6310_Aug23_SW_row_22_range_6_rep_5_isref_1.png',\n",
       " '190903_djifc6310s_Sept3_SW_row_22_range_5_rep_5_isref_1.png',\n",
       " '190814_djifc6310s_Aug14_NE_row_41_range_6_rep_2.png',\n",
       " '190822_djifc6310s_Aug22_NE_row_33_range_2_rep_5.png',\n",
       " '190822_djifc6310s_Aug22_SW_row_7_range_6_rep_3_isref_1.png',\n",
       " '190820_djifc6310s_Aug20_NE_row_21_range_2_rep_8.png',\n",
       " '190812_djifc6310s_Aug12_NW_row_17_range_4_rep_2_isref_1.png',\n",
       " '190812_djifc6310s_Aug12_SW_row_22_range_5_rep_3_isref_1.png',\n",
       " '190823_djifc6310_Aug23_NE_row_21_range_2_rep_5.png',\n",
       " '190827_djifc6310_Aug26_SE_row_40_range_4_rep_1.png',\n",
       " '190814_djifc6310s_Aug14_NE_row_21_range_2_rep_4.png',\n",
       " '190812_djifc6310s_Aug12_SW_row_7_range_6_rep_9_isref_0.png',\n",
       " '190830_djifc6310s_Aug30_SW_row_11_range_2_rep_7_isref_1.png',\n",
       " '190816_djifc6310s_Aug16_NW_row_41_range_6_rep_3_isref_1.png',\n",
       " '190823_djifc6310_Aug23_SE_row_40_range_4_rep_3.png',\n",
       " '190812_djifc6310s_Aug12_SW_row_32_range_5_rep_2_isref_0.png',\n",
       " '190823_djifc6310_Aug23_SW_row_22_range_5_rep_3_isref_1.png',\n",
       " '190827_djifc6310_Aug26_SW_row_32_range_5_rep_6_isref_0.png',\n",
       " '190905_djifc6310s_Sept5_SW_row_7_range_6_rep_6_isref_1.png',\n",
       " '190905_djifc6310s_Sept5_SE_row_1_range_1_rep_6.png',\n",
       " '190903_djifc6310s_Sept3_SE_row_21_range_3_rep_6.png',\n",
       " '190827_djifc6310_Aug26_SW_row_7_range_6_rep_2_isref_1.png',\n",
       " '190903_djifc6310s_Sept3_NW_row_32_range_6_rep_3_isref_1.png',\n",
       " '190814_djifc6310s_Aug14_SW_row_34_range_4_rep_7_isref_1.png',\n",
       " '190816_djifc6310s_Aug16_NE_row_33_range_2_rep_3.png',\n",
       " '190903_djifc6310s_Sept3_SE_row_40_range_4_rep_3.png',\n",
       " '190903_djifc6310s_Sept3_SW_row_10_range_4_rep_5_isref_1.png',\n",
       " '190827_djifc6310_Aug26_NW_row_12_range_2_rep_3_isref_1.png',\n",
       " '190830_djifc6310s_Aug30_SW_row_10_range_4_rep_5_isref_1.png',\n",
       " '190814_djifc6310s_Aug14_SE_row_23_range_1_rep_5.png',\n",
       " '190905_djifc6310s_Sept5_SE_row_8_range_2_rep_3.png',\n",
       " '190905_djifc6310s_Sept5_SE_row_12_range_6_rep_11.png',\n",
       " '190827_djifc6310_Aug26_SE_row_32_range_4_rep_3.png',\n",
       " '190822_djifc6310s_Aug22_SE_row_8_range_2_rep_3.png',\n",
       " '190814_djifc6310s_Aug14_NW_row_30_range_3_rep_8_isref_1.png',\n",
       " '190816_djifc6310s_Aug16_SW_row_32_range_5_rep_5_isref_0.png',\n",
       " '190814_djifc6310s_Aug14_NW_row_17_range_4_rep_9_isref_0.png',\n",
       " '190820_djifc6310s_Aug20_SW_row_31_range_2_rep_2_isref_0.png',\n",
       " '190903_djifc6310s_Sept3_NW_row_17_range_4_rep_7_isref_1.png',\n",
       " '190830_djifc6310s_Aug30_SE_row_23_range_1_rep_3.png',\n",
       " '190901_djifc6310s_Sept1_SW_row_11_range_2_rep_2_isref_1.png',\n",
       " '190814_djifc6310s_Aug14_NE_row_18_range_4_rep_8.png',\n",
       " '190816_djifc6310s_Aug16_NE_row_28_range_2_rep_8.png',\n",
       " '190903_djifc6310s_Sept3_NE_row_16_range_4_rep_6.png',\n",
       " '190814_djifc6310s_Aug14_SW_row_7_range_6_rep_3_isref_1.png',\n",
       " '190816_djifc6310s_Aug16_NE_row_39_range_1_rep_3.png',\n",
       " '190814_djifc6310s_Aug14_NE_row_16_range_4_rep_8.png',\n",
       " '190830_djifc6310s_Aug30_NW_row_22_range_2_rep_3_isref_0.png',\n",
       " '190827_djifc6310_Aug26_SW_row_10_range_4_rep_3_isref_1.png',\n",
       " '190901_djifc6310s_Sept1_SE_row_1_range_1_rep_2.png',\n",
       " '190827_djifc6310_Aug26_SW_row_31_range_2_rep_2_isref_1.png',\n",
       " '190814_djifc6310s_Aug14_NW_row_32_range_6_rep_3_isref_1.png',\n",
       " '190823_djifc6310_Aug23_SE_row_5_range_3_rep_5.png',\n",
       " '190830_djifc6310s_Aug30_NW_row_39_range_5_rep_3_isref_0.png',\n",
       " '190901_djifc6310s_Sept1_SW_row_31_range_2_rep_3_isref_1.png',\n",
       " '190903_djifc6310s_Sept3_SW_row_34_range_4_rep_6_isref_1.png',\n",
       " '190901_djifc6310s_Sept1_NW_row_6_range_2_rep_2_isref_0.png',\n",
       " '190814_djifc6310s_Aug14_SW_row_22_range_5_rep_5_isref_1.png',\n",
       " '190903_djifc6310s_Sept3_SW_row_22_range_6_rep_2_isref_0.png',\n",
       " '190905_djifc6310s_Sept5_NW_row_32_range_6_rep_8_isref_1.png',\n",
       " '190901_djifc6310s_Sept1_NE_row_28_range_2_rep_3.png',\n",
       " '190903_djifc6310s_Sept3_SW_row_31_range_2_rep_4_isref_1.png',\n",
       " '190827_djifc6310_Aug26_NW_row_41_range_6_rep_2_isref_1.png',\n",
       " '190901_djifc6310s_Sept1_SE_row_12_range_6_rep_11.png',\n",
       " '190905_djifc6310s_Sept5_SE_row_40_range_4_rep_6.png',\n",
       " '190820_djifc6310s_Aug20_NW_row_30_range_3_rep_6_isref_1.png',\n",
       " '190823_djifc6310_Aug23_SE_row_12_range_6_rep_2.png',\n",
       " '190816_djifc6310s_Aug16_SW_row_22_range_5_rep_4_isref_1.png']"
      ]
     },
     "execution_count": 13,
     "metadata": {},
     "output_type": "execute_result"
    }
   ],
   "source": [
    "test"
   ]
  },
  {
   "cell_type": "code",
   "execution_count": 14,
   "id": "ff19c48f",
   "metadata": {},
   "outputs": [],
   "source": [
    "# # alternate way to get the test set\n",
    "\n",
    "# test_alt = []\n",
    "# for digit in rand_digits:\n",
    "#     test_alt.append(image_names[digit])"
   ]
  },
  {
   "cell_type": "code",
   "execution_count": 15,
   "id": "8b8a7af5",
   "metadata": {},
   "outputs": [
    {
     "data": {
      "text/plain": [
       "True"
      ]
     },
     "execution_count": 15,
     "metadata": {},
     "output_type": "execute_result"
    }
   ],
   "source": [
    "# test_alt == test"
   ]
  },
  {
   "cell_type": "code",
   "execution_count": 17,
   "id": "e35b99f6",
   "metadata": {},
   "outputs": [],
   "source": [
    "# get the train images extracted\n",
    "train = [image_names[ind] for ind in rad_digits_train]"
   ]
  },
  {
   "cell_type": "code",
   "execution_count": 18,
   "id": "98b1f8bc",
   "metadata": {},
   "outputs": [
    {
     "data": {
      "text/plain": [
       "['190812_djifc6310s_Aug12_NE_row_18_range_4_rep_5.png',\n",
       " '190812_djifc6310s_Aug12_NE_row_33_range_2_rep_5.png',\n",
       " '190812_djifc6310s_Aug12_NW_row_22_range_2_rep_6_isref_0.png',\n",
       " '190812_djifc6310s_Aug12_NW_row_30_range_3_rep_4_isref_1.png',\n",
       " '190812_djifc6310s_Aug12_NW_row_39_range_5_rep_5_isref_1.png',\n",
       " '190812_djifc6310s_Aug12_NW_row_41_range_6_rep_7_isref_1.png',\n",
       " '190812_djifc6310s_Aug12_SE_row_12_range_6_rep_6.png',\n",
       " '190812_djifc6310s_Aug12_SE_row_1_range_1_rep_7.png',\n",
       " '190812_djifc6310s_Aug12_SE_row_23_range_1_rep_2.png',\n",
       " '190812_djifc6310s_Aug12_SE_row_5_range_3_rep_7.png',\n",
       " '190812_djifc6310s_Aug12_SE_row_8_range_2_rep_7.png',\n",
       " '190812_djifc6310s_Aug12_SW_row_10_range_4_rep_4_isref_1.png',\n",
       " '190812_djifc6310s_Aug12_SW_row_22_range_6_rep_6_isref_1.png',\n",
       " '190812_djifc6310s_Aug12_SW_row_34_range_4_rep_6_isref_1.png',\n",
       " '190814_djifc6310s_Aug14_NW_row_12_range_2_rep_4_isref_1.png',\n",
       " '190814_djifc6310s_Aug14_NW_row_22_range_2_rep_4_isref_1.png',\n",
       " '190814_djifc6310s_Aug14_NW_row_41_range_6_rep_3_isref_1.png',\n",
       " '190814_djifc6310s_Aug14_SE_row_12_range_6_rep_4.png',\n",
       " '190814_djifc6310s_Aug14_SE_row_21_range_3_rep_2.png',\n",
       " '190814_djifc6310s_Aug14_SE_row_8_range_2_rep_9.png',\n",
       " '190814_djifc6310s_Aug14_SW_row_22_range_6_rep_3_isref_1.png',\n",
       " '190816_djifc6310s_Aug16_NE_row_1_range_1_rep_2.png',\n",
       " '190816_djifc6310s_Aug16_NE_row_21_range_2_rep_2.png',\n",
       " '190816_djifc6310s_Aug16_NE_row_41_range_6_rep_7.png',\n",
       " '190816_djifc6310s_Aug16_NW_row_30_range_3_rep_7_isref_1.png',\n",
       " '190816_djifc6310s_Aug16_NW_row_32_range_6_rep_3_isref_1.png',\n",
       " '190816_djifc6310s_Aug16_SE_row_12_range_6_rep_4.png',\n",
       " '190816_djifc6310s_Aug16_SE_row_1_range_1_rep_3.png',\n",
       " '190816_djifc6310s_Aug16_SE_row_21_range_3_rep_3.png',\n",
       " '190816_djifc6310s_Aug16_SE_row_23_range_1_rep_2.png',\n",
       " '190816_djifc6310s_Aug16_SE_row_40_range_4_rep_3.png',\n",
       " '190816_djifc6310s_Aug16_SE_row_5_range_3_rep_7.png',\n",
       " '190816_djifc6310s_Aug16_SE_row_8_range_2_rep_6.png',\n",
       " '190816_djifc6310s_Aug16_SW_row_10_range_4_rep_6_isref_1.png',\n",
       " '190816_djifc6310s_Aug16_SW_row_7_range_6_rep_3_isref_1.png',\n",
       " '190820_djifc6310s_Aug20_NE_row_16_range_4_rep_5.png',\n",
       " '190820_djifc6310s_Aug20_NE_row_33_range_2_rep_3.png',\n",
       " '190820_djifc6310s_Aug20_NE_row_39_range_1_rep_7.png',\n",
       " '190820_djifc6310s_Aug20_NE_row_41_range_6_rep_7.png',\n",
       " '190820_djifc6310s_Aug20_NW_row_12_range_2_rep_6_isref_1.png',\n",
       " '190820_djifc6310s_Aug20_NW_row_17_range_4_rep_4_isref_1.png',\n",
       " '190820_djifc6310s_Aug20_NW_row_22_range_2_rep_7_isref_1.png',\n",
       " '190820_djifc6310s_Aug20_NW_row_32_range_6_rep_8_isref_1.png',\n",
       " '190820_djifc6310s_Aug20_NW_row_39_range_5_rep_3_isref_1.png',\n",
       " '190820_djifc6310s_Aug20_NW_row_41_range_6_rep_8_isref_1.png',\n",
       " '190820_djifc6310s_Aug20_SE_row_12_range_6_rep_3.png',\n",
       " '190820_djifc6310s_Aug20_SE_row_23_range_1_rep_2.png',\n",
       " '190820_djifc6310s_Aug20_SE_row_32_range_4_rep_7.png',\n",
       " '190820_djifc6310s_Aug20_SW_row_11_range_2_rep_7_isref_1.png',\n",
       " '190820_djifc6310s_Aug20_SW_row_32_range_5_rep_5_isref_0.png',\n",
       " '190820_djifc6310s_Aug20_SW_row_34_range_4_rep_4_isref_1.png',\n",
       " '190820_djifc6310s_Aug20_SW_row_7_range_6_rep_3_isref_1.png',\n",
       " '190822_djifc6310s_Aug22_NE_row_1_range_1_rep_7.png',\n",
       " '190822_djifc6310s_Aug22_NE_row_28_range_2_rep_1.png',\n",
       " '190822_djifc6310s_Aug22_NE_row_41_range_6_rep_7.png',\n",
       " '190822_djifc6310s_Aug22_NW_row_17_range_4_rep_3_isref_1.png',\n",
       " '190822_djifc6310s_Aug22_NW_row_30_range_3_rep_5_isref_1.png',\n",
       " '190822_djifc6310s_Aug22_NW_row_32_range_6_rep_8_isref_1.png',\n",
       " '190822_djifc6310s_Aug22_NW_row_41_range_6_rep_8_isref_1.png',\n",
       " '190822_djifc6310s_Aug22_NW_row_6_range_2_rep_6_isref_1.png',\n",
       " '190822_djifc6310s_Aug22_SE_row_12_range_6_rep_3.png',\n",
       " '190822_djifc6310s_Aug22_SE_row_1_range_1_rep_2.png',\n",
       " '190822_djifc6310s_Aug22_SE_row_23_range_1_rep_6.png',\n",
       " '190822_djifc6310s_Aug22_SE_row_40_range_4_rep_5.png',\n",
       " '190822_djifc6310s_Aug22_SW_row_22_range_5_rep_3_isref_1.png',\n",
       " '190822_djifc6310s_Aug22_SW_row_22_range_6_rep_7_isref_0.png',\n",
       " '190822_djifc6310s_Aug22_SW_row_31_range_2_rep_6_isref_1.png',\n",
       " '190822_djifc6310s_Aug22_SW_row_34_range_4_rep_4_isref_1.png',\n",
       " '190823_djifc6310_Aug23_NE_row_18_range_4_rep_3.png',\n",
       " '190823_djifc6310_Aug23_NE_row_28_range_2_rep_7.png',\n",
       " '190823_djifc6310_Aug23_NE_row_33_range_2_rep_5.png',\n",
       " '190823_djifc6310_Aug23_NE_row_39_range_1_rep_7.png',\n",
       " '190823_djifc6310_Aug23_NE_row_41_range_6_rep_3.png',\n",
       " '190823_djifc6310_Aug23_NW_row_12_range_2_rep_1_isref_0.png',\n",
       " '190823_djifc6310_Aug23_NW_row_17_range_4_rep_3_isref_0.png',\n",
       " '190823_djifc6310_Aug23_NW_row_30_range_3_rep_7_isref_1.png',\n",
       " '190823_djifc6310_Aug23_NW_row_32_range_6_rep_2_isref_1.png',\n",
       " '190823_djifc6310_Aug23_NW_row_41_range_6_rep_3_isref_1.png',\n",
       " '190823_djifc6310_Aug23_NW_row_6_range_2_rep_3_isref_1.png',\n",
       " '190823_djifc6310_Aug23_SE_row_1_range_1_rep_5.png',\n",
       " '190823_djifc6310_Aug23_SE_row_21_range_3_rep_2.png',\n",
       " '190823_djifc6310_Aug23_SW_row_34_range_4_rep_3_isref_1.png',\n",
       " '190823_djifc6310_Aug23_SW_row_7_range_6_rep_7_isref_1.png',\n",
       " '190827_djifc6310_Aug26_NE_row_18_range_4_rep_3.png',\n",
       " '190827_djifc6310_Aug26_NE_row_28_range_2_rep_6.png',\n",
       " '190827_djifc6310_Aug26_NE_row_39_range_1_rep_2.png',\n",
       " '190827_djifc6310_Aug26_NW_row_17_range_4_rep_5_isref_0.png',\n",
       " '190827_djifc6310_Aug26_NW_row_22_range_2_rep_4_isref_1.png',\n",
       " '190827_djifc6310_Aug26_NW_row_30_range_3_rep_3_isref_0.png',\n",
       " '190827_djifc6310_Aug26_NW_row_39_range_5_rep_3_isref_1.png',\n",
       " '190827_djifc6310_Aug26_SE_row_1_range_1_rep_6.png',\n",
       " '190827_djifc6310_Aug26_SE_row_21_range_3_rep_5.png',\n",
       " '190827_djifc6310_Aug26_SE_row_23_range_1_rep_5.png',\n",
       " '190827_djifc6310_Aug26_SE_row_5_range_3_rep_5.png',\n",
       " '190827_djifc6310_Aug26_SW_row_22_range_5_rep_5_isref_1.png',\n",
       " '190827_djifc6310_Aug26_SW_row_22_range_6_rep_2_isref_1.png',\n",
       " '190830_djifc6310s_Aug30_NE_row_16_range_4_rep_7.png',\n",
       " '190830_djifc6310s_Aug30_NE_row_18_range_4_rep_4.png',\n",
       " '190830_djifc6310s_Aug30_NE_row_21_range_2_rep_3.png',\n",
       " '190830_djifc6310s_Aug30_NE_row_28_range_2_rep_8.png',\n",
       " '190830_djifc6310s_Aug30_NE_row_41_range_6_rep_2.png',\n",
       " '190830_djifc6310s_Aug30_NW_row_17_range_4_rep_5_isref_1.png',\n",
       " '190830_djifc6310s_Aug30_NW_row_41_range_6_rep_4_isref_0.png',\n",
       " '190830_djifc6310s_Aug30_NW_row_6_range_2_rep_7_isref_1.png',\n",
       " '190830_djifc6310s_Aug30_SE_row_5_range_3_rep_7.png',\n",
       " '190830_djifc6310s_Aug30_SE_row_8_range_2_rep_7.png',\n",
       " '190830_djifc6310s_Aug30_SW_row_31_range_2_rep_2_isref_0.png',\n",
       " '190830_djifc6310s_Aug30_SW_row_32_range_5_rep_2_isref_1.png',\n",
       " '190901_djifc6310s_Sept1_NE_row_18_range_4_rep_7.png',\n",
       " '190901_djifc6310s_Sept1_NE_row_1_range_1_rep_12.png',\n",
       " '190901_djifc6310s_Sept1_NE_row_21_range_2_rep_3.png',\n",
       " '190901_djifc6310s_Sept1_NE_row_33_range_2_rep_3.png',\n",
       " '190901_djifc6310s_Sept1_NE_row_39_range_1_rep_13.png',\n",
       " '190901_djifc6310s_Sept1_NE_row_41_range_6_rep_13.png',\n",
       " '190901_djifc6310s_Sept1_NW_row_12_range_2_rep_2_isref_0.png',\n",
       " '190901_djifc6310s_Sept1_NW_row_17_range_4_rep_8_isref_1.png',\n",
       " '190901_djifc6310s_Sept1_NW_row_22_range_2_rep_3_isref_0.png',\n",
       " '190901_djifc6310s_Sept1_NW_row_30_range_3_rep_7_isref_1.png',\n",
       " '190901_djifc6310s_Sept1_NW_row_39_range_5_rep_7_isref_1.png',\n",
       " '190901_djifc6310s_Sept1_NW_row_41_range_6_rep_9_isref_0.png',\n",
       " '190901_djifc6310s_Sept1_SE_row_21_range_3_rep_4.png',\n",
       " '190901_djifc6310s_Sept1_SE_row_23_range_1_rep_4.png',\n",
       " '190901_djifc6310s_Sept1_SE_row_32_range_4_rep_2.png',\n",
       " '190901_djifc6310s_Sept1_SE_row_5_range_3_rep_1.png',\n",
       " '190901_djifc6310s_Sept1_SW_row_10_range_4_rep_5_isref_1.png',\n",
       " '190901_djifc6310s_Sept1_SW_row_22_range_5_rep_9_isref_0.png',\n",
       " '190901_djifc6310s_Sept1_SW_row_22_range_6_rep_3_isref_0.png',\n",
       " '190901_djifc6310s_Sept1_SW_row_32_range_5_rep_8_isref_0.png',\n",
       " '190901_djifc6310s_Sept1_SW_row_34_range_4_rep_10_isref_0.png',\n",
       " '190901_djifc6310s_Sept1_SW_row_7_range_6_rep_5_isref_1.png',\n",
       " '190903_djifc6310s_Sept3_NE_row_1_range_1_rep_7.png',\n",
       " '190903_djifc6310s_Sept3_NE_row_28_range_2_rep_3.png',\n",
       " '190903_djifc6310s_Sept3_NE_row_33_range_2_rep_3.png',\n",
       " '190903_djifc6310s_Sept3_NE_row_39_range_1_rep_1.png',\n",
       " '190903_djifc6310s_Sept3_NE_row_41_range_6_rep_3.png',\n",
       " '190903_djifc6310s_Sept3_NW_row_12_range_2_rep_7_isref_1.png',\n",
       " '190903_djifc6310s_Sept3_NW_row_22_range_2_rep_6_isref_1.png',\n",
       " '190903_djifc6310s_Sept3_NW_row_30_range_3_rep_7_isref_1.png',\n",
       " '190903_djifc6310s_Sept3_NW_row_39_range_5_rep_7_isref_1.png',\n",
       " '190903_djifc6310s_Sept3_NW_row_41_range_6_rep_3_isref_1.png',\n",
       " '190903_djifc6310s_Sept3_NW_row_6_range_2_rep_7_isref_1.png',\n",
       " '190903_djifc6310s_Sept3_SE_row_12_range_6_rep_2.png',\n",
       " '190903_djifc6310s_Sept3_SE_row_1_range_1_rep_4.png',\n",
       " '190903_djifc6310s_Sept3_SE_row_23_range_1_rep_4.png',\n",
       " '190903_djifc6310s_Sept3_SE_row_32_range_4_rep_5.png',\n",
       " '190903_djifc6310s_Sept3_SE_row_5_range_3_rep_2.png',\n",
       " '190903_djifc6310s_Sept3_SE_row_8_range_2_rep_6.png',\n",
       " '190903_djifc6310s_Sept3_SW_row_11_range_2_rep_5_isref_1.png',\n",
       " '190903_djifc6310s_Sept3_SW_row_32_range_5_rep_5_isref_1.png',\n",
       " '190905_djifc6310s_Sept5_NE_row_16_range_4_rep_8.png',\n",
       " '190905_djifc6310s_Sept5_NE_row_18_range_4_rep_8.png',\n",
       " '190905_djifc6310s_Sept5_NE_row_41_range_6_rep_7.png',\n",
       " '190905_djifc6310s_Sept5_NW_row_12_range_2_rep_7_isref_1.png',\n",
       " '190905_djifc6310s_Sept5_NW_row_17_range_4_rep_7_isref_1.png',\n",
       " '190905_djifc6310s_Sept5_NW_row_41_range_6_rep_8_isref_1.png',\n",
       " '190905_djifc6310s_Sept5_NW_row_6_range_2_rep_7_isref_1.png',\n",
       " '190905_djifc6310s_Sept5_SE_row_21_range_3_rep_3.png',\n",
       " '190905_djifc6310s_Sept5_SE_row_23_range_1_rep_6.png',\n",
       " '190905_djifc6310s_Sept5_SE_row_5_range_3_rep_11.png',\n",
       " '190905_djifc6310s_Sept5_SW_row_22_range_5_rep_7_isref_1.png',\n",
       " '190905_djifc6310s_Sept5_SW_row_31_range_2_rep_6_isref_1.png',\n",
       " '190905_djifc6310s_Sept5_SW_row_32_range_5_rep_2_isref_0.png',\n",
       " '190905_djifc6310s_Sept5_SW_row_34_range_4_rep_7_isref_1.png']"
      ]
     },
     "execution_count": 18,
     "metadata": {},
     "output_type": "execute_result"
    }
   ],
   "source": [
    "train"
   ]
  },
  {
   "cell_type": "code",
   "execution_count": 19,
   "id": "0d7c6472",
   "metadata": {},
   "outputs": [
    {
     "data": {
      "text/plain": [
       "163"
      ]
     },
     "execution_count": 19,
     "metadata": {},
     "output_type": "execute_result"
    }
   ],
   "source": [
    "# sanity check how many digits train\n",
    "len(train)"
   ]
  },
  {
   "cell_type": "code",
   "execution_count": 20,
   "id": "9180af13",
   "metadata": {},
   "outputs": [
    {
     "data": {
      "text/plain": [
       "160"
      ]
     },
     "execution_count": 20,
     "metadata": {},
     "output_type": "execute_result"
    }
   ],
   "source": [
    "# sanity check how many images test\n",
    "len(test)"
   ]
  },
  {
   "cell_type": "code",
   "execution_count": 21,
   "id": "856556f0",
   "metadata": {},
   "outputs": [],
   "source": [
    "# take these into 2 seperate folders as well\n",
    "\n",
    "# first lets copy the content of choosen images to some other location, and use that to extract the train and test images\n",
    "\n",
    "# probably this should be done in a loop, as shutil deals with the end files and not an entire folder\n",
    "\n",
    "src_path_all = r\"C:\\Users\\15739\\Desktop\\UNL - all\\Summer 2022\\Manuscript\\Image_set_1\\unfiltered\"\n",
    "dest_path = r\"C:\\Users\\15739\\Desktop\\UNL - all\\Summer 2022\\Manuscript\\Image_set_1\\unfiltered duplicate\"\n",
    "\n",
    "for image in image_names:\n",
    "    src_path = src_path_all + '\\\\' + image\n",
    "    shutil.copy(src_path,dest_path )\n",
    "    "
   ]
  },
  {
   "cell_type": "code",
   "execution_count": 22,
   "id": "fd379b4e",
   "metadata": {},
   "outputs": [],
   "source": [
    "# now from here, move to train and test folders\n",
    "\n",
    "# train destination\n",
    "train_dest = r\"C:\\Users\\15739\\Desktop\\UNL - all\\Summer 2022\\Manuscript\\Image_set_1\\unfiltered_train\"\n",
    "\n",
    "# test destination\n",
    "test_dest = r\"C:\\Users\\15739\\Desktop\\UNL - all\\Summer 2022\\Manuscript\\Image_set_1\\unfiltered_test\"\n",
    "\n",
    "# move train data\n",
    "\n",
    "for train_name in train:\n",
    "    shutil.copy(src_path_all + '\\\\' + train_name, train_dest)\n",
    "    \n",
    "# move test data\n",
    "for test_name in test:\n",
    "    shutil.copy(src_path_all + '\\\\' + test_name, test_dest)"
   ]
  },
  {
   "cell_type": "code",
   "execution_count": null,
   "id": "c53af7a9",
   "metadata": {},
   "outputs": [],
   "source": [
    "# Cool now we have the data, now just have to do all the preprocessing and getting the predictions\n"
   ]
  }
 ],
 "metadata": {
  "kernelspec": {
   "display_name": "gayarad",
   "language": "python",
   "name": "gayarad"
  },
  "language_info": {
   "codemirror_mode": {
    "name": "ipython",
    "version": 3
   },
   "file_extension": ".py",
   "mimetype": "text/x-python",
   "name": "python",
   "nbconvert_exporter": "python",
   "pygments_lexer": "ipython3",
   "version": "3.8.8"
  }
 },
 "nbformat": 4,
 "nbformat_minor": 5
}
