{
 "cells": [
  {
   "cell_type": "code",
   "execution_count": 28,
   "id": "5c0adb93",
   "metadata": {},
   "outputs": [],
   "source": [
    "import tensorflow as tf\n",
    "from tensorflow import keras\n",
    "import numpy as np\n",
    "import pandas as pd\n",
    "import os\n",
    "import scipy.io\n",
    "import matplotlib.pyplot as plt\n",
    "from keras.preprocessing.image import save_img\n",
    "from keras.preprocessing.image import img_to_array"
   ]
  },
  {
   "cell_type": "code",
   "execution_count": 10,
   "id": "22a94e46",
   "metadata": {},
   "outputs": [],
   "source": [
    "# read in the images, and convert them to gray scale - seperately for train and test data"
   ]
  },
  {
   "cell_type": "markdown",
   "id": "b8c1e35a",
   "metadata": {},
   "source": [
    "### First convert the train images"
   ]
  },
  {
   "cell_type": "code",
   "execution_count": 9,
   "id": "6a863489",
   "metadata": {},
   "outputs": [],
   "source": [
    "# path of the images\n",
    "path_unfiltered_train = r\"C:\\Users\\15739\\Desktop\\UNL - all\\Summer 2022\\Manuscript\\Image_set_1\\unfiltered_train\""
   ]
  },
  {
   "cell_type": "code",
   "execution_count": 11,
   "id": "a3ae6daa",
   "metadata": {},
   "outputs": [],
   "source": [
    "# get the names of the images\n",
    "all_images = os.listdir(path_unfiltered_train)"
   ]
  },
  {
   "cell_type": "code",
   "execution_count": 15,
   "id": "b54467d1",
   "metadata": {},
   "outputs": [],
   "source": [
    "# join the image name and path name\n",
    "all_image_paths = []\n",
    "for image in all_images:\n",
    "    image_path = os.path.join(path_unfiltered_train, image)\n",
    "    all_image_paths.append(image_path)"
   ]
  },
  {
   "cell_type": "code",
   "execution_count": 17,
   "id": "99a087d3",
   "metadata": {},
   "outputs": [
    {
     "data": {
      "text/plain": [
       "163"
      ]
     },
     "execution_count": 17,
     "metadata": {},
     "output_type": "execute_result"
    }
   ],
   "source": [
    "# how mane images?\n",
    "len(all_image_paths)"
   ]
  },
  {
   "cell_type": "code",
   "execution_count": 18,
   "id": "cc25e0e8",
   "metadata": {},
   "outputs": [],
   "source": [
    "# read in the images and see the shape of each image\n",
    "images_as_matrices = []\n",
    "for im_path in all_image_paths:\n",
    "    read_image = plt.imread(im_path)\n",
    "    images_as_matrices.append(read_image)"
   ]
  },
  {
   "cell_type": "code",
   "execution_count": 21,
   "id": "a4c8924e",
   "metadata": {},
   "outputs": [
    {
     "data": {
      "text/plain": [
       "(1081, 263, 3)"
      ]
     },
     "execution_count": 21,
     "metadata": {},
     "output_type": "execute_result"
    }
   ],
   "source": [
    "# Check the shape of an image\n",
    "images_as_matrices[0].shape"
   ]
  },
  {
   "cell_type": "code",
   "execution_count": 22,
   "id": "d5d87399",
   "metadata": {},
   "outputs": [],
   "source": [
    "# convert to gray scale images\n",
    "all_gray_images = []\n",
    "for color_image in images_as_matrices:\n",
    "    gray_image = tf.image.rgb_to_grayscale(color_image)\n",
    "    all_gray_images.append(gray_image)"
   ]
  },
  {
   "cell_type": "code",
   "execution_count": 35,
   "id": "c0c734c6",
   "metadata": {},
   "outputs": [],
   "source": [
    "# save the numpy arrays as images?\n",
    "\n",
    "# First need to convert the array to an image\n",
    "img_array = img_to_array(all_gray_images[0])\n",
    "\n",
    "# try this for all images\n",
    "img_arrays_all = []\n",
    "for img in all_gray_images:\n",
    "    img_ary = img_to_array(img)\n",
    "    img_arrays_all.append(img_ary)"
   ]
  },
  {
   "cell_type": "code",
   "execution_count": 33,
   "id": "d551fa00",
   "metadata": {},
   "outputs": [],
   "source": [
    "# save image\n",
    "save_img(r\"C:\\Users\\15739\\Desktop\\UNL - all\\Summer 2022\\Manuscript\\Trial images\\image_0.png\", img_array)"
   ]
  },
  {
   "cell_type": "code",
   "execution_count": 38,
   "id": "15186b34",
   "metadata": {},
   "outputs": [],
   "source": [
    "# Try this for all train images\n",
    "\n",
    "# Store new image path \n",
    "new_path = r\"C:\\Users\\15739\\Desktop\\UNL - all\\Summer 2022\\Manuscript\\Image_set_1\\unfiltered_gray_train\""
   ]
  },
  {
   "cell_type": "code",
   "execution_count": 39,
   "id": "85ce9d14",
   "metadata": {},
   "outputs": [],
   "source": [
    "for i in range(len(all_image_paths)):\n",
    "    im_path = os.path.join(new_path, all_images[i])\n",
    "    save_img(im_path, img_arrays_all[i])"
   ]
  },
  {
   "cell_type": "markdown",
   "id": "104c7b22",
   "metadata": {},
   "source": [
    "### Convert the test images"
   ]
  },
  {
   "cell_type": "code",
   "execution_count": 40,
   "id": "e6f77ee8",
   "metadata": {},
   "outputs": [],
   "source": [
    "# path of the images\n",
    "path_unfiltered_test = r\"C:\\Users\\15739\\Desktop\\UNL - all\\Summer 2022\\Manuscript\\Image_set_1\\unfiltered_test\""
   ]
  },
  {
   "cell_type": "code",
   "execution_count": 41,
   "id": "f82c24fd",
   "metadata": {},
   "outputs": [],
   "source": [
    "# get the names of the images\n",
    "all_images_test = os.listdir(path_unfiltered_test)"
   ]
  },
  {
   "cell_type": "code",
   "execution_count": 42,
   "id": "b3b4f448",
   "metadata": {},
   "outputs": [],
   "source": [
    "# join the image name and path name\n",
    "all_image_paths_test = []\n",
    "for image in all_images_test:\n",
    "    image_path = os.path.join(path_unfiltered_test, image)\n",
    "    all_image_paths_test.append(image_path)"
   ]
  },
  {
   "cell_type": "code",
   "execution_count": 43,
   "id": "86de39f6",
   "metadata": {},
   "outputs": [
    {
     "data": {
      "text/plain": [
       "160"
      ]
     },
     "execution_count": 43,
     "metadata": {},
     "output_type": "execute_result"
    }
   ],
   "source": [
    "# how mane images?\n",
    "len(all_image_paths_test)"
   ]
  },
  {
   "cell_type": "code",
   "execution_count": 44,
   "id": "2552a9ca",
   "metadata": {},
   "outputs": [],
   "source": [
    "# read in the images and see the shape of each image\n",
    "images_as_matrices_test = []\n",
    "for i_path in all_image_paths_test:\n",
    "    read_image = plt.imread(i_path)\n",
    "    images_as_matrices_test.append(read_image)"
   ]
  },
  {
   "cell_type": "code",
   "execution_count": 45,
   "id": "8dbba620",
   "metadata": {},
   "outputs": [
    {
     "data": {
      "text/plain": [
       "(1081, 263, 3)"
      ]
     },
     "execution_count": 45,
     "metadata": {},
     "output_type": "execute_result"
    }
   ],
   "source": [
    "# Check the shape of an image\n",
    "images_as_matrices_test[0].shape"
   ]
  },
  {
   "cell_type": "code",
   "execution_count": 46,
   "id": "7c86bc04",
   "metadata": {},
   "outputs": [],
   "source": [
    "# convert to gray scale images\n",
    "all_gray_images_test = []\n",
    "for clr_image in images_as_matrices_test:\n",
    "    gray_image = tf.image.rgb_to_grayscale(clr_image)\n",
    "    all_gray_images_test.append(gray_image)"
   ]
  },
  {
   "cell_type": "code",
   "execution_count": 47,
   "id": "bcd4ad36",
   "metadata": {},
   "outputs": [],
   "source": [
    "# save the numpy arrays as images?\n",
    "\n",
    "# First need to convert the array to an image\n",
    "img_array = img_to_array(all_gray_images_test[0])\n",
    "\n",
    "# try this for all images\n",
    "img_arrays_test = []\n",
    "for im in all_gray_images_test:\n",
    "    img_ary = img_to_array(im)\n",
    "    img_arrays_test.append(img_ary)"
   ]
  },
  {
   "cell_type": "code",
   "execution_count": 48,
   "id": "0697673f",
   "metadata": {},
   "outputs": [],
   "source": [
    "# save image\n",
    "save_img(r\"C:\\Users\\15739\\Desktop\\UNL - all\\Summer 2022\\Manuscript\\Trial images\\image_1.png\", img_array)"
   ]
  },
  {
   "cell_type": "code",
   "execution_count": 50,
   "id": "8fd512f1",
   "metadata": {},
   "outputs": [],
   "source": [
    "# Try this for all train images\n",
    "\n",
    "# Store new image path \n",
    "new_path_test = r\"C:\\Users\\15739\\Desktop\\UNL - all\\Summer 2022\\Manuscript\\Image_set_1\\unfiltered_gray_test\""
   ]
  },
  {
   "cell_type": "code",
   "execution_count": 51,
   "id": "b00aad1c",
   "metadata": {},
   "outputs": [],
   "source": [
    "for i in range(len(all_image_paths_test)):\n",
    "    im_path = os.path.join(new_path_test, all_images_test[i])\n",
    "    save_img(im_path, img_arrays_test[i])"
   ]
  }
 ],
 "metadata": {
  "kernelspec": {
   "display_name": "gayarad",
   "language": "python",
   "name": "gayarad"
  },
  "language_info": {
   "codemirror_mode": {
    "name": "ipython",
    "version": 3
   },
   "file_extension": ".py",
   "mimetype": "text/x-python",
   "name": "python",
   "nbconvert_exporter": "python",
   "pygments_lexer": "ipython3",
   "version": "3.8.8"
  }
 },
 "nbformat": 4,
 "nbformat_minor": 5
}
